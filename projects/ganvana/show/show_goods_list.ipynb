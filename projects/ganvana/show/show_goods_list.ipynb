{
 "cells": [
  {
   "cell_type": "code",
   "execution_count": 1,
   "id": "fd4fc936",
   "metadata": {},
   "outputs": [],
   "source": [
    "import os\n",
    "import json\n",
    "from tqdm import tqdm\n",
    "import os\n",
    "import json\n",
    "import pandas as pd\n",
    "from tqdm import tqdm\n",
    "import sys\n",
    "sys.path.append(\"D:/_WangKe/ganvana\")\n",
    "from imgs.get_imgs import imgurl2path, get_img_list, clean_imgurl\n",
    "from show.show_goods import id2show_goods"
   ]
  },
  {
   "cell_type": "code",
   "execution_count": 19,
   "id": "3c3b6d79",
   "metadata": {},
   "outputs": [],
   "source": [
    "tags_cate1_cate2 = json.load(open(\"D:/_WangKe/scikkk.github.io/projects/ganvana/tags_cate1_cate2.json\", \"r\", encoding=\"utf-8\"))\n",
    "tags_cate1_cate2[\"tags\"] = {item['id']: item for item in tags_cate1_cate2[\"tags\"]}\n",
    "id_cates = {item['id']: item for item in tags_cate1_cate2[\"cate1List\"]+tags_cate1_cate2[\"cate2List\"]}\n",
    "name_cates = {item['name']: item for item in tags_cate1_cate2[\"cate1List\"]+tags_cate1_cate2[\"cate2List\"]}"
   ]
  },
  {
   "cell_type": "code",
   "execution_count": 20,
   "id": "7d402872",
   "metadata": {},
   "outputs": [],
   "source": [
    "cates = {}\n",
    "for cate1 in tags_cate1_cate2[\"cate1List\"]:\n",
    "    for cate2 in tags_cate1_cate2[\"cate2List\"]:\n",
    "        if cate2[\"father\"] == cate1[\"id\"]:\n",
    "            if cate1[\"name\"] not in cates:\n",
    "                cates[cate1[\"name\"]] = []\n",
    "            cates[cate1[\"name\"]].append(cate2[\"name\"])\n",
    "with open(\"D:/_WangKe/scikkk.github.io/projects/ganvana/cates.json\", \"w\", encoding=\"utf-8\") as f:\n",
    "    json.dump(cates, f, ensure_ascii=False, indent=4)"
   ]
  },
  {
   "cell_type": "code",
   "execution_count": 4,
   "id": "db6e247e",
   "metadata": {},
   "outputs": [],
   "source": [
    "import datetime\n",
    "\n",
    "def convert_timestamp_to_datetime(timestamp):\n",
    "    timestamp_in_seconds = timestamp / 1000.0\n",
    "    dt = datetime.datetime.fromtimestamp(timestamp_in_seconds)\n",
    "    return dt"
   ]
  },
  {
   "cell_type": "code",
   "execution_count": 5,
   "id": "c2dca4ed",
   "metadata": {},
   "outputs": [],
   "source": [
    "def load_jsonl(file_path):\n",
    "    data = []\n",
    "    with open(file_path, 'r', encoding='utf-8') as f:\n",
    "        for line in tqdm(f):\n",
    "            data.append(json.loads(line))\n",
    "    return data\n"
   ]
  },
  {
   "cell_type": "code",
   "execution_count": 6,
   "id": "fdaad4f4",
   "metadata": {},
   "outputs": [],
   "source": [
    "\n",
    "def mall_jsonl2csv(jsonl_file):\n",
    "    vacant_list = []\n",
    "    data = load_jsonl(jsonl_file)\n",
    "    headers = [     \n",
    "            'page', 'id', \n",
    "            'tag', \n",
    "            'group', \n",
    "            'cate1', 'cate1_name',\n",
    "            'cate2', 'cate2_name',\n",
    "            'status', \n",
    "            'name', 'lat_name', 'sn', \n",
    "            'author', \n",
    "            'price', 'usd_price', 'profit_rate',\n",
    "            'amount', 'size', 'condition', 'area', \n",
    "            'thumb', 'thumb_big', \n",
    "            'desc', 'descEn', 'content', 'created_at', 'updated_at', 'indexShow', \n",
    "            'cate_name', 'cate_lat_name',  \n",
    "            'cls_ph', 'cls_cl1', 'cls_cl2', 'cls_cl3', \n",
    "            'cls_or1', 'cls_or2', 'cls_or3', 'cls_or4', 'cls_or5', \n",
    "            'cls_fa1', 'cls_ch', \n",
    "               ]\n",
    "    for entry in tqdm(data, desc=\"Processing JSONL\"):\n",
    "        if len(entry) <= 1:\n",
    "            vacant_list.append(entry[\"id\"])\n",
    "            continue\n",
    "        # classification\n",
    "        classification = [\"ph\", \"cl1\", \"cl2\", \"cl3\", \"or1\", \"or2\", \"or3\", \"or4\", \"or5\", \"fa1\", \"ch\"]\n",
    "        if \"classification\" not in entry or not entry[\"classification\"]:\n",
    "            entry[\"classification\"] = {}\n",
    "        for c in classification:\n",
    "            entry[f\"cls_{c}\"] = entry[\"classification\"].get(c, '')\n",
    "        del entry[\"classification\"]\n",
    "        # cate1, cate2\n",
    "        cate1 = min(entry.get(\"cate1\", 0), entry.get(\"cate2\", 0))\n",
    "        cate2 = max(entry.get(\"cate1\", 0), entry.get(\"cate2\", 0))\n",
    "        entry[\"cate1\"], entry[\"cate2\"] = cate1, cate2\n",
    "        if cate1 in id_cates:\n",
    "            entry[\"cate1_name\"] = id_cates[cate1][\"name\"]\n",
    "        else:\n",
    "            entry[\"cate1_name\"] = ''\n",
    "        if cate2 in id_cates:\n",
    "            entry[\"cate2_name\"] = id_cates[cate2][\"name\"]\n",
    "            entry[\"cate1_name\"] = id_cates[id_cates[cate2][\"father\"]][\"name\"]\n",
    "        else:\n",
    "            entry[\"cate2_name\"] = ''\n",
    "\n",
    "        if \"name\" in entry and entry[\"name\"] and not entry[\"cate2_name\"]:\n",
    "            for candidates in [\"亚纳特螺科\",\"德亚奇螺科\", \"豆蜗牛科\", \"小豆螺科\", \"亚轮螺科\", \"塔格螺科\", \"薄泥蜗牛科\", \"拟阿勇螺科\", \"吉奥蜗牛科\", \"管螺科\"]:\n",
    "                if candidates in entry[\"name\"] or candidates[:-1] in entry[\"name\"]:\n",
    "                    entry[\"cate2_name\"] = name_cates[candidates][\"name\"]\n",
    "                    entry[\"cate1_name\"] = id_cates[name_cates[candidates][\"father\"]][\"name\"]\n",
    "                    # print(entry[\"cate1_name\"], entry[\"cate2_name\"], entry[\"name\"])\n",
    "                    break\n",
    "        \n",
    "        if entry.get(\"price\", 0) and entry.get(\"usd_price\", 0):\n",
    "            entry[\"profit_rate\"] = round((entry[\"price\"] - entry[\"usd_price\"]) / entry[\"usd_price\"], 2)\n",
    "        if 'created_at' in entry and isinstance(entry['created_at'], int):\n",
    "            entry['created_at'] = convert_timestamp_to_datetime(entry['created_at'])\n",
    "        if 'updated_at' in entry and isinstance(entry['updated_at'], int):\n",
    "            entry['updated_at'] = convert_timestamp_to_datetime(entry['updated_at'])\n",
    "    # deduplicate\n",
    "    data = {entry[\"id\"]: entry for entry in data}\n",
    "    data = list(data.values())\n",
    "    df = pd.DataFrame(data, columns=headers)\n",
    "    return df"
   ]
  },
  {
   "cell_type": "code",
   "execution_count": 7,
   "id": "7a1bf226",
   "metadata": {},
   "outputs": [
    {
     "name": "stderr",
     "output_type": "stream",
     "text": [
      "0it [00:00, ?it/s]"
     ]
    },
    {
     "name": "stderr",
     "output_type": "stream",
     "text": [
      "151613it [00:02, 51023.66it/s]\n",
      "Processing JSONL: 100%|██████████| 151613/151613 [00:01<00:00, 89227.59it/s]\n"
     ]
    }
   ],
   "source": [
    "getGoodsInfo = \"D:/_WangKe/scikkk.github.io/projects/ganvana/mall/getGoodsInfo.jsonl\"\n",
    "data = mall_jsonl2csv(getGoodsInfo)"
   ]
  },
  {
   "cell_type": "code",
   "execution_count": 8,
   "id": "cf49e22b",
   "metadata": {},
   "outputs": [
    {
     "data": {
      "text/html": [
       "<div>\n",
       "<style scoped>\n",
       "    .dataframe tbody tr th:only-of-type {\n",
       "        vertical-align: middle;\n",
       "    }\n",
       "\n",
       "    .dataframe tbody tr th {\n",
       "        vertical-align: top;\n",
       "    }\n",
       "\n",
       "    .dataframe thead th {\n",
       "        text-align: right;\n",
       "    }\n",
       "</style>\n",
       "<table border=\"1\" class=\"dataframe\">\n",
       "  <thead>\n",
       "    <tr style=\"text-align: right;\">\n",
       "      <th></th>\n",
       "      <th>page</th>\n",
       "      <th>id</th>\n",
       "      <th>tag</th>\n",
       "      <th>group</th>\n",
       "      <th>cate1</th>\n",
       "      <th>cate1_name</th>\n",
       "      <th>cate2</th>\n",
       "      <th>cate2_name</th>\n",
       "      <th>status</th>\n",
       "      <th>name</th>\n",
       "      <th>...</th>\n",
       "      <th>cls_cl1</th>\n",
       "      <th>cls_cl2</th>\n",
       "      <th>cls_cl3</th>\n",
       "      <th>cls_or1</th>\n",
       "      <th>cls_or2</th>\n",
       "      <th>cls_or3</th>\n",
       "      <th>cls_or4</th>\n",
       "      <th>cls_or5</th>\n",
       "      <th>cls_fa1</th>\n",
       "      <th>cls_ch</th>\n",
       "    </tr>\n",
       "  </thead>\n",
       "  <tbody>\n",
       "    <tr>\n",
       "      <th>0</th>\n",
       "      <td>NaN</td>\n",
       "      <td>1</td>\n",
       "      <td>1.0</td>\n",
       "      <td>2.0</td>\n",
       "      <td>3.0</td>\n",
       "      <td>海生腹足纲</td>\n",
       "      <td>209.0</td>\n",
       "      <td>蟹守螺科</td>\n",
       "      <td>-1.0</td>\n",
       "      <td>未定螺科</td>\n",
       "      <td>...</td>\n",
       "      <td></td>\n",
       "      <td></td>\n",
       "      <td></td>\n",
       "      <td></td>\n",
       "      <td></td>\n",
       "      <td></td>\n",
       "      <td></td>\n",
       "      <td></td>\n",
       "      <td></td>\n",
       "      <td></td>\n",
       "    </tr>\n",
       "  </tbody>\n",
       "</table>\n",
       "<p>1 rows × 41 columns</p>\n",
       "</div>"
      ],
      "text/plain": [
       "   page  id  tag  group  cate1 cate1_name  cate2 cate2_name  status  name  \\\n",
       "0   NaN   1  1.0    2.0    3.0      海生腹足纲  209.0       蟹守螺科    -1.0  未定螺科   \n",
       "\n",
       "   ... cls_cl1 cls_cl2 cls_cl3  cls_or1  cls_or2  cls_or3  cls_or4 cls_or5  \\\n",
       "0  ...                                                                       \n",
       "\n",
       "  cls_fa1 cls_ch  \n",
       "0                 \n",
       "\n",
       "[1 rows x 41 columns]"
      ]
     },
     "execution_count": 8,
     "metadata": {},
     "output_type": "execute_result"
    }
   ],
   "source": [
    "data[data['id'] == 1]"
   ]
  },
  {
   "cell_type": "code",
   "execution_count": 9,
   "id": "95b0e11d",
   "metadata": {},
   "outputs": [],
   "source": [
    "def ids2goods_list(idxs, max_num=1000):\n",
    "    goods_list = []\n",
    "    for idx in idxs[:max_num]:\n",
    "        goods_list.append(id2show_goods(idx))\n",
    "    out = {\"list\":goods_list,\n",
    "    \"pages\": {\n",
    "      \"amount\": len(goods_list),\n",
    "      \"now_page\": \"1\",\n",
    "      \"all_page\": 1\n",
    "    }}\n",
    "    with open(\"D:/_WangKe/scikkk.github.io/projects/ganvana/show/goods_list.json\", \"w\", encoding=\"utf-8\") as f:\n",
    "        json.dump(out, f, ensure_ascii=False, indent=4)\n",
    "    "
   ]
  },
  {
   "cell_type": "code",
   "execution_count": 15,
   "id": "c760d28c",
   "metadata": {},
   "outputs": [],
   "source": [
    "# show data info\n",
    "data = data.sort_values(by=\"price\", ascending=False)\n",
    "ids = data[data['name'].str.contains(\"芋螺\", na=False)][\"id\"].tolist()\n",
    "ids2goods_list(ids)\n"
   ]
  },
  {
   "cell_type": "code",
   "execution_count": 21,
   "id": "ffb5d612",
   "metadata": {},
   "outputs": [],
   "source": [
    "# show data info\n",
    "data = data.sort_values(by=\"price\", ascending=False)\n",
    "c1 = name_cates[\"坚螺科\"]['id']\n",
    "c2 = name_cates[\"坚螺科\"]['id']\n",
    "ids = data[(data['cate1'] == c1) | (data['cate2'] == c2)][\"id\"].tolist()\n",
    "ids2goods_list(ids)\n"
   ]
  }
 ],
 "metadata": {
  "kernelspec": {
   "display_name": "base",
   "language": "python",
   "name": "python3"
  },
  "language_info": {
   "codemirror_mode": {
    "name": "ipython",
    "version": 3
   },
   "file_extension": ".py",
   "mimetype": "text/x-python",
   "name": "python",
   "nbconvert_exporter": "python",
   "pygments_lexer": "ipython3",
   "version": "undefined.undefined.undefined"
  }
 },
 "nbformat": 4,
 "nbformat_minor": 5
}
